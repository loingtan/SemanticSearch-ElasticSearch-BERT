{
 "cells": [
  {
   "cell_type": "code",
   "id": "initial_id",
   "metadata": {
    "collapsed": true,
    "ExecuteTime": {
     "end_time": "2024-12-20T13:26:11.635085Z",
     "start_time": "2024-12-20T13:26:02.861796Z"
    }
   },
   "source": [
    "from time import time\n",
    "from beir import util, LoggingHandler\n",
    "from beir.datasets.data_loader import GenericDataLoader\n",
    "from beir.retrieval.evaluation import EvaluateRetrieval\n",
    "from beir.retrieval.search.dense import DenseRetrievalExactSearch as DRES\n",
    "from bert_retrieval import BERT\n",
    "from beir.retrieval import models\n",
    "import logging\n",
    "import random"
   ],
   "outputs": [
    {
     "name": "stderr",
     "output_type": "stream",
     "text": [
      "C:\\Users\\09398\\PycharmProjects\\PhoBert-semantic-search\\.venv\\Lib\\site-packages\\beir\\util.py:2: TqdmExperimentalWarning: Using `tqdm.autonotebook.tqdm` in notebook mode. Use `tqdm.tqdm` instead to force console mode (e.g. in jupyter console)\n",
      "  from tqdm.autonotebook import tqdm\n"
     ]
    }
   ],
   "execution_count": 1
  },
  {
   "metadata": {
    "ExecuteTime": {
     "end_time": "2024-12-20T16:00:45.756433Z",
     "start_time": "2024-12-20T15:58:36.934687Z"
    }
   },
   "cell_type": "code",
   "source": [
    "logging.basicConfig(format='%(asctime)s - %(message)s',\n",
    "                    datefmt='%Y-%m-%d %H:%M:%S',\n",
    "                    level=logging.INFO,\n",
    "                    handlers=[LoggingHandler()])\n",
    "\n",
    "data_path = \"data/nfcorpus\"\n",
    "\n",
    "corpus, queries, qrels = GenericDataLoader(data_folder=data_path).load(split=\"test\")\n",
    "\n",
    "model = DRES(models.SentenceBERT(\"all-MiniLM-L6-v2\"), batch_size=256, corpus_chunk_size=512*9999)\n",
    "retriever_bert = EvaluateRetrieval(model, score_function=\"dot\")\n",
    "\n",
    "start_time = time()\n",
    "results_bert = retriever_bert.retrieve(corpus, queries)\n",
    "end_time = time()\n",
    "print(\"Time taken to retrieve: {:.2f} seconds\".format(end_time - start_time))"
   ],
   "id": "1042fed05f9bebd4",
   "outputs": [
    {
     "name": "stdout",
     "output_type": "stream",
     "text": [
      "2024-12-20 22:58:36 - Loading Corpus...\n"
     ]
    },
    {
     "data": {
      "text/plain": [
       "  0%|          | 0/3633 [00:00<?, ?it/s]"
      ],
      "application/vnd.jupyter.widget-view+json": {
       "version_major": 2,
       "version_minor": 0,
       "model_id": "93129a87a8994de98d7613eff6ae5c5f"
      }
     },
     "metadata": {},
     "output_type": "display_data"
    },
    {
     "name": "stdout",
     "output_type": "stream",
     "text": [
      "2024-12-20 22:58:37 - Loaded 3633 TEST Documents.\n",
      "2024-12-20 22:58:37 - Doc Example: {'text': 'Recent studies have suggested that statins, an established drug group in the prevention of cardiovascular mortality, could delay or prevent breast cancer recurrence but the effect on disease-specific mortality remains unclear. We evaluated risk of breast cancer death among statin users in a population-based cohort of breast cancer patients. The study cohort included all newly diagnosed breast cancer patients in Finland during 1995–2003 (31,236 cases), identified from the Finnish Cancer Registry. Information on statin use before and after the diagnosis was obtained from a national prescription database. We used the Cox proportional hazards regression method to estimate mortality among statin users with statin use as time-dependent variable. A total of 4,151 participants had used statins. During the median follow-up of 3.25 years after the diagnosis (range 0.08–9.0 years) 6,011 participants died, of which 3,619 (60.2%) was due to breast cancer. After adjustment for age, tumor characteristics, and treatment selection, both post-diagnostic and pre-diagnostic statin use were associated with lowered risk of breast cancer death (HR 0.46, 95% CI 0.38–0.55 and HR 0.54, 95% CI 0.44–0.67, respectively). The risk decrease by post-diagnostic statin use was likely affected by healthy adherer bias; that is, the greater likelihood of dying cancer patients to discontinue statin use as the association was not clearly dose-dependent and observed already at low-dose/short-term use. The dose- and time-dependence of the survival benefit among pre-diagnostic statin users suggests a possible causal effect that should be evaluated further in a clinical trial testing statins’ effect on survival in breast cancer patients.', 'title': 'Statin Use and Breast Cancer Survival: A Nationwide Cohort Study from Finland'}\n",
      "2024-12-20 22:58:37 - Loading Queries...\n",
      "2024-12-20 22:58:37 - Loaded 323 TEST Queries.\n",
      "2024-12-20 22:58:37 - Query Example: Do Cholesterol Statin Drugs Cause Breast Cancer?\n",
      "2024-12-20 22:58:37 - Use pytorch device_name: cpu\n",
      "2024-12-20 22:58:37 - Load pretrained SentenceTransformer: all-MiniLM-L6-v2\n",
      "2024-12-20 22:58:40 - Encoding Queries...\n"
     ]
    },
    {
     "data": {
      "text/plain": [
       "Batches:   0%|          | 0/2 [00:00<?, ?it/s]"
      ],
      "application/vnd.jupyter.widget-view+json": {
       "version_major": 2,
       "version_minor": 0,
       "model_id": "c8850efe7e154a028c7fd61a2a8f09ba"
      }
     },
     "metadata": {},
     "output_type": "display_data"
    },
    {
     "name": "stdout",
     "output_type": "stream",
     "text": [
      "2024-12-20 22:58:41 - Sorting Corpus by document length (Longest first)...\n",
      "2024-12-20 22:58:41 - Encoding Corpus in batches... Warning: This might take a while!\n",
      "2024-12-20 22:58:41 - Scoring Function: Dot Product (dot)\n",
      "2024-12-20 22:58:41 - Encoding Batch 1/1...\n"
     ]
    },
    {
     "data": {
      "text/plain": [
       "Batches:   0%|          | 0/15 [00:00<?, ?it/s]"
      ],
      "application/vnd.jupyter.widget-view+json": {
       "version_major": 2,
       "version_minor": 0,
       "model_id": "be5e8aa77b504573b8caed62f983c0b4"
      }
     },
     "metadata": {},
     "output_type": "display_data"
    },
    {
     "name": "stdout",
     "output_type": "stream",
     "text": [
      "Time taken to retrieve: 125.55 seconds\n"
     ]
    }
   ],
   "execution_count": 76
  },
  {
   "metadata": {
    "ExecuteTime": {
     "end_time": "2024-12-20T16:01:25.182239Z",
     "start_time": "2024-12-20T16:01:24.741657Z"
    }
   },
   "cell_type": "code",
   "source": [
    "logging.info(\"Retriever evaluation for k in: {}\".format(retriever_bert.k_values))\n",
    "ndcg, _map, recall, precision = retriever_bert.evaluate(qrels, results_bert, retriever_bert.k_values)\n",
    "mrr = retriever_bert.evaluate_custom(qrels, results_bert, retriever_bert.k_values, metric=\"mrr\")\n",
    "recall_cap = retriever_bert.evaluate_custom(qrels, results_bert, retriever_bert.k_values, metric=\"r_cap\")\n",
    "hole = retriever_bert.evaluate_custom(qrels, results_bert, retriever_bert.k_values, metric=\"hole\")\n",
    "logging.info(\"Retriever evaluation results:\")\n",
    "logging.info(f\"  nDCG: {ndcg}\")\n",
    "logging.info(f\"  Mean Average Precision: { _map}\")\n",
    "logging.info(f\"  Recall: {recall}\")\n",
    "logging.info(f\"  Precision: {precision}\")\n",
    "logging.info(f\"  MRR: {mrr}\")\n",
    "logging.info(f\"  Recall Cap: {recall_cap}\")\n",
    "logging.info(f\"  Hole: {hole}\")\n",
    "\n"
   ],
   "id": "1bb10364ce2147b7",
   "outputs": [
    {
     "name": "stdout",
     "output_type": "stream",
     "text": [
      "2024-12-20 23:01:24 - Retriever evaluation for k in: [1, 3, 5, 10, 100, 1000]\n",
      "2024-12-20 23:01:24 - For evaluation, we ignore identical query and document ids (default), please explicitly set ``ignore_identical_ids=False`` to ignore this.\n",
      "2024-12-20 23:01:24 - \n",
      "\n",
      "2024-12-20 23:01:24 - NDCG@1: 0.3947\n",
      "2024-12-20 23:01:24 - NDCG@3: 0.3635\n",
      "2024-12-20 23:01:24 - NDCG@5: 0.3416\n",
      "2024-12-20 23:01:24 - NDCG@10: 0.3159\n",
      "2024-12-20 23:01:24 - NDCG@100: 0.2945\n",
      "2024-12-20 23:01:24 - NDCG@1000: 0.3828\n",
      "2024-12-20 23:01:24 - \n",
      "\n",
      "2024-12-20 23:01:24 - MAP@1: 0.0432\n",
      "2024-12-20 23:01:24 - MAP@3: 0.0772\n",
      "2024-12-20 23:01:24 - MAP@5: 0.0923\n",
      "2024-12-20 23:01:24 - MAP@10: 0.1105\n",
      "2024-12-20 23:01:24 - MAP@100: 0.1424\n",
      "2024-12-20 23:01:24 - MAP@1000: 0.1568\n",
      "2024-12-20 23:01:24 - \n",
      "\n",
      "2024-12-20 23:01:24 - Recall@1: 0.0432\n",
      "2024-12-20 23:01:24 - Recall@3: 0.0905\n",
      "2024-12-20 23:01:24 - Recall@5: 0.1196\n",
      "2024-12-20 23:01:24 - Recall@10: 0.1550\n",
      "2024-12-20 23:01:24 - Recall@100: 0.3115\n",
      "2024-12-20 23:01:24 - Recall@1000: 0.6321\n",
      "2024-12-20 23:01:24 - \n",
      "\n",
      "2024-12-20 23:01:24 - P@1: 0.4149\n",
      "2024-12-20 23:01:24 - P@3: 0.3488\n",
      "2024-12-20 23:01:24 - P@5: 0.3028\n",
      "2024-12-20 23:01:24 - P@10: 0.2433\n",
      "2024-12-20 23:01:24 - P@100: 0.0798\n",
      "2024-12-20 23:01:24 - P@1000: 0.0210\n",
      "2024-12-20 23:01:24 - \n",
      "\n",
      "2024-12-20 23:01:24 - MRR@1: 0.4180\n",
      "2024-12-20 23:01:24 - MRR@3: 0.4825\n",
      "2024-12-20 23:01:24 - MRR@5: 0.5004\n",
      "2024-12-20 23:01:24 - MRR@10: 0.5061\n",
      "2024-12-20 23:01:24 - MRR@100: 0.5117\n",
      "2024-12-20 23:01:24 - MRR@1000: 0.5122\n",
      "2024-12-20 23:01:24 - \n",
      "\n",
      "2024-12-20 23:01:25 - R_cap@1: 0.4180\n",
      "2024-12-20 23:01:25 - R_cap@3: 0.3648\n",
      "2024-12-20 23:01:25 - R_cap@5: 0.3383\n",
      "2024-12-20 23:01:25 - R_cap@10: 0.3026\n",
      "2024-12-20 23:01:25 - R_cap@100: 0.3268\n",
      "2024-12-20 23:01:25 - R_cap@1000: 0.6321\n",
      "2024-12-20 23:01:25 - \n",
      "\n",
      "2024-12-20 23:01:25 - Hole@1: 0.0898\n",
      "2024-12-20 23:01:25 - Hole@3: 0.0949\n",
      "2024-12-20 23:01:25 - Hole@5: 0.1040\n",
      "2024-12-20 23:01:25 - Hole@10: 0.1133\n",
      "2024-12-20 23:01:25 - Hole@100: 0.1252\n",
      "2024-12-20 23:01:25 - Hole@1000: 0.1321\n",
      "2024-12-20 23:01:25 - Retriever evaluation results:\n",
      "2024-12-20 23:01:25 -   nDCG: {'NDCG@1': 0.39474, 'NDCG@3': 0.36355, 'NDCG@5': 0.34164, 'NDCG@10': 0.31594, 'NDCG@100': 0.29455, 'NDCG@1000': 0.38283}\n",
      "2024-12-20 23:01:25 -   Mean Average Precision: {'MAP@1': 0.04323, 'MAP@3': 0.07722, 'MAP@5': 0.09231, 'MAP@10': 0.11048, 'MAP@100': 0.14244, 'MAP@1000': 0.15684}\n",
      "2024-12-20 23:01:25 -   Recall: {'Recall@1': 0.04323, 'Recall@3': 0.09053, 'Recall@5': 0.11959, 'Recall@10': 0.15499, 'Recall@100': 0.31151, 'Recall@1000': 0.63211}\n",
      "2024-12-20 23:01:25 -   Precision: {'P@1': 0.41486, 'P@3': 0.34881, 'P@5': 0.30279, 'P@10': 0.24334, 'P@100': 0.07981, 'P@1000': 0.02096}\n",
      "2024-12-20 23:01:25 -   MRR: {'MRR@1': 0.41796, 'MRR@3': 0.48246, 'MRR@5': 0.50041, 'MRR@10': 0.50611, 'MRR@100': 0.51169, 'MRR@1000': 0.51216}\n",
      "2024-12-20 23:01:25 -   Recall Cap: {'R_cap@1': 0.41796, 'R_cap@3': 0.36481, 'R_cap@5': 0.33829, 'R_cap@10': 0.30263, 'R_cap@100': 0.32676, 'R_cap@1000': 0.63211}\n",
      "2024-12-20 23:01:25 -   Hole: {'Hole@1': 0.08978, 'Hole@3': 0.09494, 'Hole@5': 0.10402, 'Hole@10': 0.11331, 'Hole@100': 0.12517, 'Hole@1000': 0.13208}\n"
     ]
    }
   ],
   "execution_count": 77
  },
  {
   "metadata": {
    "ExecuteTime": {
     "end_time": "2024-12-20T16:01:28.378938Z",
     "start_time": "2024-12-20T16:01:28.182291Z"
    }
   },
   "cell_type": "code",
   "source": [
    "import matplotlib.pyplot as plt\n",
    "from ipywidgets import interact, Dropdown\n",
    "\n",
    "def plot_metrics(k):\n",
    "    metrics = ['nDCG', 'MAP', 'Recall', 'Precision', 'MRR', 'Recall Cap', 'Hole']\n",
    "    values = [ndcg[f'NDCG@{k}'], _map[f'MAP@{k}'], recall[f'Recall@{k}'], precision[f'P@{k}'], mrr[f'MRR@{k}'], recall_cap[f'R_cap@{k}'], hole[f'Hole@{k}']]\n",
    "\n",
    "    plt.figure(figsize=(10, 6))\n",
    "    plt.barh(metrics, values, color=['#4CAF50', '#2196F3', '#FF5722', '#FFC107', '#9C27B0', '#00BCD4', '#E91E63'])\n",
    "    plt.xlabel('Scores', fontsize=12)\n",
    "    plt.ylabel('Metrics', fontsize=12)\n",
    "    plt.title(f'BERT Evaluation Metrics with K = {k}', fontsize=14)\n",
    "    plt.xlim(0, 1)\n",
    "\n",
    "    for i, v in enumerate(values):\n",
    "        plt.text(v + 0.01 if v < 0.9 else v - 0.1, i, f\"{v:.2f}\", va='center', fontsize=10, color='black')\n",
    "    plt.savefig(f'bert_evaluation_metrics_k_{k}.png')\n",
    "    plt.tight_layout()\n",
    "    plt.show()\n",
    "\n",
    "k_values = [1, 3, 5, 10, 100, 1000]\n",
    "dropdown = Dropdown(options=k_values, value=1000, description='Select K')\n",
    "interact(plot_metrics, k=dropdown);\n",
    "\n"
   ],
   "id": "b7b5161983f9d84b",
   "outputs": [
    {
     "data": {
      "text/plain": [
       "interactive(children=(Dropdown(description='Select K', index=5, options=(1, 3, 5, 10, 100, 1000), value=1000),…"
      ],
      "application/vnd.jupyter.widget-view+json": {
       "version_major": 2,
       "version_minor": 0,
       "model_id": "81e171b8e3d44b23b9fde6d58a9aa3fb"
      }
     },
     "metadata": {},
     "output_type": "display_data"
    }
   ],
   "execution_count": 78
  },
  {
   "metadata": {
    "ExecuteTime": {
     "end_time": "2024-12-20T13:29:10.272351Z",
     "start_time": "2024-12-20T13:29:10.265134Z"
    }
   },
   "cell_type": "code",
   "source": [
    "top_k = 10\n",
    "query_id, ranking_scores = random.choice(list(results_bert.items()))\n",
    "scores_sorted = sorted(ranking_scores.items(), key=lambda item: item[1], reverse=True)\n",
    "logging.info(\"Query : %s\\n\" % queries[query_id])\n",
    "for rank in range(top_k):\n",
    "    doc_id = scores_sorted[rank][0]\n",
    "\n",
    "    logging.info(\"Rank %d: %s [%s] - %s\\n\" % (rank+1, doc_id, corpus[doc_id].get(\"title\"), corpus[doc_id].get(\"text\")))"
   ],
   "id": "6ec34143452e5d88",
   "outputs": [
    {
     "name": "stdout",
     "output_type": "stream",
     "text": [
      "2024-12-20 20:29:10 - Query : cadaverine\n",
      "\n",
      "2024-12-20 20:29:10 - Rank 1: MED-729 [Transfer of spinal cord material to subsequent bovine carcasses at splitting.] - During the slaughter process, cattle carcasses are split by sawing centrally down the vertebral column, resulting in contamination of each half with spinal cord material. Using a novel method based on a real-time PCR assay, we measured saw-mediated tissue transfer among carcasses. Up to 2.5% of the tissue recovered from each of the five subsequent carcasses by swabbing the split vertebral face came from the first carcass to be split; approximately 9 mg was spinal cord tissue. Under controlled conditions in an experimental abattoir, between 23 and 135 g of tissue accumulated in the saw after splitting five to eight carcasses. Of the total tissue recovered, between 10 and 15% originated from the first carcass, and between 7 and 61 mg was spinal cord tissue from the first carcass. At commercial plants in the United Kingdom, between 6 and 101 g of tissue was recovered from the saw, depending on the particular saw-washing procedure and number of carcasses processed. Therefore, if a carcass infected with bovine spongiform encephalopathy were to enter the slaughter line, the main risk of subsequent carcass contamination would come from the tissue debris that accumulates in the splitting saw. This work highlights the importance of effective saw cleaning and indicates that design modifications are required to minimize the accumulation of spinal cord tissue debris and, hence, the risk of cross-contamination of carcasses.\n",
      "\n",
      "2024-12-20 20:29:10 - Rank 2: MED-3601 [Children as guinea pigs: historical perspective.] - Experimentation involving children is not a new phenomenon. Children have been used as research subjects in a diverse set of experiments, including the trials of new vaccines and sera, in efforts to understand normal pediatric anatomy and physiology and in the development of new drugs and procedures. Concern about child participants in research is also not a new development. For more than a century, critics of medical research have called attention to the fact that children and other vulnerable populations--pregnant women, prisoners, the mentally ill--have too often served as the unwitting and unwilling subjects of medical experiments. This paper looks at several early cases in which children participated, including the first trial of cowpox vaccine, the first human trial of rabies vaccine, and the first treatment of Listerian wound antisepsis. The history of concern for children, especially institutionalized children, in medical research is considered along with the development of regulations or guidelines, including the Declaration of Helsinki (1964).\n",
      "\n",
      "2024-12-20 20:29:10 - Rank 3: MED-732 [Dissemination of central nervous system tissue during the slaughter of cattle in three Irish abattoirs.] - Sponge samples were taken from the carcases, meat, personnel and surfaces involved in stunning, slaughter and dressing/boning activities at three abattoirs, and from retail beef products. The samples were examined for the presence of central nervous system (CNS)-specific proteins (syntaxin 1B and/or glial fibrillary acidic protein (GFAP), as indicators of contamination with CNS tissue. Syntaxin 1B and GFAP were detected in many of the sponge samples taken along the slaughter line and in the chill rooms of all three abattoirs; GFAP was also detected in one sample of longissimus muscle (striploin) taken in the boning hall of one of the abattoirs but not in the other two abattoirs or in retail meats.\n",
      "\n",
      "2024-12-20 20:29:10 - Rank 4: MED-1037 [A brief journey into medical care and disease in ancient Egypt.] - Ancient Egypt was one of the greatest civilizations to have arisen, becoming the cradle of scientific enquiry and social development over 3 millennia; undoubtedly its knowledge of medicine has been vastly underestimated. Few artefacts survive which describe the medical organization, but from the extent of the diseases afflicting that ancient populus there would have been much to study. Evidence from papyri, tomb bas reliefs and the writings of historians of antiquity tell of an intense interest in the sciences, humanities and medicine born of an educated society which had overcome the superstitions of its nomadic ancestors.\n",
      "\n",
      "2024-12-20 20:29:10 - Rank 5: MED-1041 [Gastroenterology in ancient Egypt.] - Physicians in ancient Egypt devoted their care to disorders of individual organs. Notable among the specialties was gastroenterology, a subject matter that occupied a major portion of the surviving medical papyri. Although they did not name diseases as we know them, Pharaonic physicians described a host of gastroenterological symptoms for which an extensive array of therapeutics was prescribed. Their clinical accounts indicated an impressive knowledge of gastric and anorectal conditions. In their thinking on disease mechanism, the circulating materia peccans absorbed from feces represented a major cause of medical symptoms and disorders. This served as the rationale for the popular practice of self-purgation with enemas.\n",
      "\n",
      "2024-12-20 20:29:10 - Rank 6: MED-2110 [Extracorporeal membrane oxygenation for newborn respiratory failure: forty-five cases.] - Almost all types of newborn respiratory failure are reversible. However, supportive treatment (oxygen and positive airway pressure) can damage the lung, and newborn respiratory failure remains a major cause of morbidity and death in infants. Prolonged extracorporeal membrane oxygenation (ECMO) provides life support while allowing the lung to \"rest.\" We have used ECMO in 45 moribund newborn infants; 25 survived. Neonatologists referred patients who were unresponsive to maximal therapy. The right atrium and aortic arch were cannulated via the jugular vein and carotid artery. Heparin was infused continuously to main activated clotting time at 200 to 300 seconds. Airway oxygenation and pressure were reduced to low levels. Primary diagnoses were hyaline membrane disease, 14 (6 survived, 8 died); meconium aspiration, 22 (15 survived, 7 died); persistent fetal circulation including diaphragmatic hernia, 5 (3 survived, 2 died); and sepsis, 4 (1 survived, 3 died). Growth, development, and brain and lung function are normal in 20 of 25 survivors. ECMO decreased newborn respiratory failure mortality and morbidity rates in this phase I trial. A controlled randomized study is underway. The results suggest that ECMO may be effective in older patients if used before irreversible lung damage occurs.\n",
      "\n",
      "2024-12-20 20:29:10 - Rank 7: MED-4958 [Biogenic amines in fish: roles in intoxication, spoilage, and nitrosamine formation--a review.] - Biogenic amines are non-volatile amines formed by decarboxylation of amino acids. Although many biogenic amines have been found in fish, only histamine, cadaverine, and putrescine have been found to be significant in fish safety and quality determination. Despite a widely reported association between histamine and scombroid food poisoning, histamine alone appears to be insufficient to cause food toxicity. Putrescine and cadaverine have been suggested to potentiate histamine toxicity. With respect to spoilage on the other hand, only cadaverine has been found to be a useful index of the initial stage of fish decomposition. The relationship between biogenic amines, sensory evaluation, and trimethylamine during spoilage are influenced by bacterial composition and free amino acid content. A mesophilic bacterial count of log 6-7 cfu/g has been found to be associated with 5 mg histamine/100 g fish, the Food and Drug Administration (FDA) maximum allowable histamine level. In vitro studies have shown the involvement of cadaverine and putrescine in the formation of nitrosamines, nitrosopiperidine (NPIP), and nitrosopyrrolidine (NPYR), respectively. In addition, impure salt, high temperature, and low pH enhance nitrosamine formation, whereas pure sodium chloride inhibits their formation. Understanding the relationships between biogenic amines and their involvement in the formation of nitrosamines could explain the mechanism of scombroid poisoning and assure the safety of many fish products.\n",
      "\n",
      "2024-12-20 20:29:10 - Rank 8: MED-4790 [The risks of copper toxicity contributing to cognitive decline in the aging population and to Alzheimer's disease.] - It is a pleasure and an honor to contribute a paper to a special issue of the Journal of the American College of Nutrition honoring Stanley Wallach and Pearl Small. In this brief review I advance the hypothesis that copper toxicity is the major cause of the epidemic of mild cognitive impairment and Alzheimer's disease engulfing our aging population. This epidemic is recent, exploding in the last 50-60 years. The disease was virtually unknown 100 years ago. And it involves only developed countries that use copper plumbing. Something in our environment associated with development is poisoning the minds of our aged. The epidemic is associated with the use of copper plumbing, and the taking of copper in multi-mineral supplements. Food copper (organic copper) is processed by the liver and is transported and sequestered in a safe manner. Inorganic copper, such as that in drinking water and copper supplements, largely bypasses the liver and enters the free copper pool of the blood directly. This copper is potentially toxic because it may penetrate the blood/brain barrier. I review a web of animal and human data that tightens the noose around the hypothesis that copper toxicity is causing the epidemic of Alzeimer's disease and loss of cognition in our aging population.\n",
      "\n",
      "2024-12-20 20:29:10 - Rank 9: MED-4423 [The Collateral Network Concept: A Reassessment of the Anatomy of Spinal Cord Perfusion] - OBJECTIVE Prevention of paraplegia following repair of thoracoabdominal aortic aneurysms (TAAA) requires understanding the anatomy and physiology of the blood supply to the spinal cord. Recent laboratory studies and clinical observations suggest that a robust collateral network must exist to explain preservation of spinal cord perfusion when segmental vessels are interrupted. An anatomical study was undertaken. METHODS Twelve juvenile Yorkshire pigs underwent aortic cannulation and infusion of a low-viscosity acrylic resin at physiological pressures. After curing of the resin and digestion of all organic tissue, the anatomy of the blood supply to the spinal cord was studied grossly and using light and electron microscopy. RESULTS All vascular structures ≥ 8μm in diameter were preserved. Thoracic and lumbar segmental arteries (SAs) give rise not only to the anterior spinal artery (ASA), but to an extensive paraspinous network feeding the erector spinae, iliopsoas, and associated muscles. The ASA, mean diameter 134±20 μm, is connected at multiple points to repetitive circular epidural arteries with mean diameters of 150±26 μm. The capacity of the paraspinous muscular network is 25-fold the capacity of the circular epidural arterial network and ASA combined. Extensive arterial collateralization is apparent between the intraspinal and paraspinous networks, and within each network. Only 75% of all SAs provide direct ASA-supplying branches. CONCLUSIONS The ASA is only one component of an extensive paraspinous and intraspinal collateral vascular network. This network provides an anatomic explanation of the physiological resiliency of spinal cord perfusion when SAs are sacrificed during TAAA repair.\n",
      "\n",
      "2024-12-20 20:29:10 - Rank 10: MED-1977 [Colonization of butchers with livestock-associated methicillin-resistant Staphylococcus aureus.] - Reports have documented colonization of swine in Europe, North America and more recently in China with livestock-associated methicillin-resistant Staphylococcus aureus (LA-MRSA). Contamination of pig farmers, veterinarians and abattoir workers with these strains has been observed. However, although contamination levels of 10% of retail pork were reported from the Netherlands and Canada, there are limited data of contamination rates of workers handling raw meat. We investigated the rates of MRSA contamination of local butchers working in wet markets, where recently slaughtered pigs are cut up. Nasal swabs collected from 300 pork butchers at markets throughout Hong Kong were enriched in brain heart infusion broth with 5% salt and cultured on MRSASelect(®) . Isolates were confirmed as Staphylococcus aureus and susceptibility testing performed. The presence of mecA was confirmed, SCCmec and spa type determined and relatedness investigated by PFGE. Subjects completed a questionnaire on MRSA carriage risk factors. Seventeen samples (5.6%) yielded MRSA, 15 harbouring SCCmec IVb. Ten strains were t899 (CC9), previously reported from local pig carcasses. Five strains were healthcare associated: SCCmec type II, t701(CC6), colonizing two subjects at the same establishment, and single isolates of t008 (CC8), t002 (CC5) and t123 (CC45). The remaining isolates were t359 (CC97), previously reported from buffaloes, and t375 (CC5), reported from bovine milk. None of these butchers reported recent hospitalization or a healthcare worker in the family. Two had recently received antibiotics, one for a skin infection. Four reported wound infections within the last year. All were exposed to meat for >9 h per day. Carriage of MRSA was higher in butchers than in the general community. Although five strains were probably of healthcare origin, the high incidence of t899 (CC9) suggests that cross-contamination from pork occurs frequently. Washing of hands after touching raw pork is advised. © 2012 Blackwell Verlag GmbH.\n",
      "\n"
     ]
    }
   ],
   "execution_count": 5
  },
  {
   "metadata": {
    "ExecuteTime": {
     "end_time": "2024-12-20T13:29:21.640728Z",
     "start_time": "2024-12-20T13:29:13.072778Z"
    }
   },
   "cell_type": "code",
   "source": [
    "from beir.retrieval.search.lexical import BM25Search as BM25\n",
    "from beir.retrieval.evaluation import EvaluateRetrieval\n",
    "hostname = \"http://localhost:9200\"\n",
    "index_name = \"nfcorpus_key\"\n",
    "initialize = True\n",
    "\n",
    "model = BM25(index_name=index_name, hostname=hostname, initialize=initialize)\n",
    "retriever = EvaluateRetrieval(model)\n",
    "results = retriever.retrieve(corpus, queries)"
   ],
   "id": "aaec0bf05b1970a9",
   "outputs": [
    {
     "name": "stdout",
     "output_type": "stream",
     "text": [
      "2024-12-20 20:29:13 - Activating Elasticsearch....\n",
      "2024-12-20 20:29:13 - Elastic Search Credentials: {'hostname': 'http://localhost:9200', 'index_name': 'nfcorpus_key', 'keys': {'title': 'title', 'body': 'txt'}, 'timeout': 100, 'retry_on_timeout': True, 'maxsize': 24, 'number_of_shards': 'default', 'language': 'english'}\n",
      "2024-12-20 20:29:13 - Deleting previous Elasticsearch-Index named - nfcorpus_key\n",
      "2024-12-20 20:29:14 - DELETE http://localhost:9200/nfcorpus_key [status:200 duration:0.416s]\n",
      "2024-12-20 20:29:16 - Creating fresh Elasticsearch-Index named - nfcorpus_key\n",
      "2024-12-20 20:29:16 - PUT http://localhost:9200/nfcorpus_key [status:200 duration:0.359s]\n"
     ]
    },
    {
     "name": "stderr",
     "output_type": "stream",
     "text": [
      "  0%|          | 1/3633 [00:00<20:44,  2.92docs/s]"
     ]
    },
    {
     "name": "stdout",
     "output_type": "stream",
     "text": [
      "2024-12-20 20:29:17 - PUT http://localhost:9200/nfcorpus_key/_bulk [status:200 duration:0.324s]\n"
     ]
    },
    {
     "name": "stderr",
     "output_type": "stream",
     "text": [
      " 28%|██▊       | 1001/3633 [00:00<00:01, 1601.66docs/s]"
     ]
    },
    {
     "name": "stdout",
     "output_type": "stream",
     "text": [
      "2024-12-20 20:29:17 - PUT http://localhost:9200/nfcorpus_key/_bulk [status:200 duration:0.251s]\n",
      "2024-12-20 20:29:17 - PUT http://localhost:9200/nfcorpus_key/_bulk [status:200 duration:0.159s]\n"
     ]
    },
    {
     "name": "stderr",
     "output_type": "stream",
     "text": [
      " 41%|████▏     | 1501/3633 [00:00<00:01, 2025.75docs/s]"
     ]
    },
    {
     "name": "stdout",
     "output_type": "stream",
     "text": [
      "2024-12-20 20:29:17 - PUT http://localhost:9200/nfcorpus_key/_bulk [status:200 duration:0.155s]\n"
     ]
    },
    {
     "name": "stderr",
     "output_type": "stream",
     "text": [
      " 55%|█████▌    | 2001/3633 [00:01<00:00, 2092.55docs/s]"
     ]
    },
    {
     "name": "stdout",
     "output_type": "stream",
     "text": [
      "2024-12-20 20:29:18 - PUT http://localhost:9200/nfcorpus_key/_bulk [status:200 duration:0.210s]\n"
     ]
    },
    {
     "name": "stderr",
     "output_type": "stream",
     "text": [
      " 69%|██████▉   | 2501/3633 [00:01<00:00, 2230.31docs/s]"
     ]
    },
    {
     "name": "stdout",
     "output_type": "stream",
     "text": [
      "2024-12-20 20:29:18 - PUT http://localhost:9200/nfcorpus_key/_bulk [status:200 duration:0.180s]\n"
     ]
    },
    {
     "name": "stderr",
     "output_type": "stream",
     "text": [
      "  0%|          | 0/3633 [00:00<?, ?docs/s]             \n"
     ]
    },
    {
     "name": "stdout",
     "output_type": "stream",
     "text": [
      "2024-12-20 20:29:18 - PUT http://localhost:9200/nfcorpus_key/_bulk [status:200 duration:0.175s]\n",
      "2024-12-20 20:29:18 - PUT http://localhost:9200/nfcorpus_key/_bulk [status:200 duration:0.055s]\n"
     ]
    },
    {
     "name": "stderr",
     "output_type": "stream",
     "text": [
      "que:  33%|███▎      | 1/3 [00:00<00:01,  1.90it/s]"
     ]
    },
    {
     "name": "stdout",
     "output_type": "stream",
     "text": [
      "2024-12-20 20:29:20 - POST http://localhost:9200/_msearch [status:200 duration:0.469s]\n"
     ]
    },
    {
     "name": "stderr",
     "output_type": "stream",
     "text": [
      "que:  67%|██████▋   | 2/3 [00:00<00:00,  2.35it/s]"
     ]
    },
    {
     "name": "stdout",
     "output_type": "stream",
     "text": [
      "2024-12-20 20:29:21 - POST http://localhost:9200/_msearch [status:200 duration:0.295s]\n"
     ]
    },
    {
     "name": "stderr",
     "output_type": "stream",
     "text": [
      "que: 100%|██████████| 3/3 [00:01<00:00,  2.62it/s]"
     ]
    },
    {
     "name": "stdout",
     "output_type": "stream",
     "text": [
      "2024-12-20 20:29:21 - POST http://localhost:9200/_msearch [status:200 duration:0.208s]\n"
     ]
    },
    {
     "name": "stderr",
     "output_type": "stream",
     "text": [
      "\n"
     ]
    }
   ],
   "execution_count": 6
  },
  {
   "metadata": {
    "ExecuteTime": {
     "end_time": "2024-12-20T14:26:52.530133Z",
     "start_time": "2024-12-20T14:26:52.356412Z"
    }
   },
   "cell_type": "code",
   "source": [
    "logging.info(\"Retriever evaluation for k in: {}\".format(retriever.k_values))\n",
    "ndcg, _map, recall, precision = retriever.evaluate(qrels, results, retriever.k_values)\n",
    "mrr = retriever.evaluate_custom(qrels, results, retriever.k_values, metric=\"mrr\")\n",
    "recall_cap = retriever.evaluate_custom(qrels, results, retriever.k_values, metric=\"r_cap\")\n",
    "hole = retriever.evaluate_custom(qrels, results, retriever.k_values, metric=\"hole\")"
   ],
   "id": "bddee32b8aada68d",
   "outputs": [
    {
     "name": "stdout",
     "output_type": "stream",
     "text": [
      "2024-12-20 21:26:52 - Retriever evaluation for k in: [1, 3, 5, 10, 100, 1000]\n",
      "2024-12-20 21:26:52 - For evaluation, we ignore identical query and document ids (default), please explicitly set ``ignore_identical_ids=False`` to ignore this.\n",
      "2024-12-20 21:26:52 - \n",
      "\n",
      "2024-12-20 21:26:52 - NDCG@1: 0.4497\n",
      "2024-12-20 21:26:52 - NDCG@3: 0.4025\n",
      "2024-12-20 21:26:52 - NDCG@5: 0.3770\n",
      "2024-12-20 21:26:52 - NDCG@10: 0.3428\n",
      "2024-12-20 21:26:52 - NDCG@100: 0.2894\n",
      "2024-12-20 21:26:52 - NDCG@1000: 0.3206\n",
      "2024-12-20 21:26:52 - \n",
      "\n",
      "2024-12-20 21:26:52 - MAP@1: 0.0594\n",
      "2024-12-20 21:26:52 - MAP@3: 0.1005\n",
      "2024-12-20 21:26:52 - MAP@5: 0.1133\n",
      "2024-12-20 21:26:52 - MAP@10: 0.1297\n",
      "2024-12-20 21:26:52 - MAP@100: 0.1542\n",
      "2024-12-20 21:26:52 - MAP@1000: 0.1600\n",
      "2024-12-20 21:26:52 - \n",
      "\n",
      "2024-12-20 21:26:52 - Recall@1: 0.0594\n",
      "2024-12-20 21:26:52 - Recall@3: 0.1132\n",
      "2024-12-20 21:26:52 - Recall@5: 0.1331\n",
      "2024-12-20 21:26:52 - Recall@10: 0.1660\n",
      "2024-12-20 21:26:52 - Recall@100: 0.2602\n",
      "2024-12-20 21:26:52 - Recall@1000: 0.3900\n",
      "2024-12-20 21:26:52 - \n",
      "\n",
      "2024-12-20 21:26:52 - P@1: 0.4675\n",
      "2024-12-20 21:26:52 - P@3: 0.3777\n",
      "2024-12-20 21:26:52 - P@5: 0.3227\n",
      "2024-12-20 21:26:52 - P@10: 0.2471\n",
      "2024-12-20 21:26:52 - P@100: 0.0683\n",
      "2024-12-20 21:26:52 - P@1000: 0.0118\n",
      "2024-12-20 21:26:52 - \n",
      "\n",
      "2024-12-20 21:26:52 - MRR@1: 0.4489\n",
      "2024-12-20 21:26:52 - MRR@3: 0.5119\n",
      "2024-12-20 21:26:52 - MRR@5: 0.5202\n",
      "2024-12-20 21:26:52 - MRR@10: 0.5295\n",
      "2024-12-20 21:26:52 - MRR@100: 0.5332\n",
      "2024-12-20 21:26:52 - MRR@1000: 0.5334\n",
      "2024-12-20 21:26:52 - \n",
      "\n",
      "2024-12-20 21:26:52 - R_cap@1: 0.4489\n",
      "2024-12-20 21:26:52 - R_cap@3: 0.3829\n",
      "2024-12-20 21:26:52 - R_cap@5: 0.3471\n",
      "2024-12-20 21:26:52 - R_cap@10: 0.3019\n",
      "2024-12-20 21:26:52 - R_cap@100: 0.2610\n",
      "2024-12-20 21:26:52 - R_cap@1000: 0.3719\n",
      "2024-12-20 21:26:52 - \n",
      "\n",
      "2024-12-20 21:26:52 - Hole@1: 0.0619\n",
      "2024-12-20 21:26:52 - Hole@3: 0.0753\n",
      "2024-12-20 21:26:52 - Hole@5: 0.0780\n",
      "2024-12-20 21:26:52 - Hole@10: 0.0836\n",
      "2024-12-20 21:26:52 - Hole@100: 0.0869\n",
      "2024-12-20 21:26:52 - Hole@1000: 0.0532\n"
     ]
    }
   ],
   "execution_count": 40
  },
  {
   "metadata": {
    "ExecuteTime": {
     "end_time": "2024-12-20T12:30:52.890280Z",
     "start_time": "2024-12-20T12:30:52.885742Z"
    }
   },
   "cell_type": "code",
   "source": "",
   "id": "a3781b4f5b68c9a8",
   "outputs": [],
   "execution_count": null
  },
  {
   "metadata": {
    "ExecuteTime": {
     "end_time": "2024-12-20T13:29:26.901060Z",
     "start_time": "2024-12-20T13:29:26.638802Z"
    }
   },
   "cell_type": "code",
   "source": [
    "import matplotlib.pyplot as plt\n",
    "from ipywidgets import interact, Dropdown\n",
    "\n",
    "def plot_metrics(k):\n",
    "    metrics = ['nDCG', 'MAP', 'Recall', 'Precision', 'MRR', 'Recall Cap', 'Hole']\n",
    "    values = [ndcg[f'NDCG@{k}'], _map[f'MAP@{k}'], recall[f'Recall@{k}'], precision[f'P@{k}'], mrr[f'MRR@{k}'], recall_cap[f'R_cap@{k}'], hole[f'Hole@{k}']]\n",
    "\n",
    "    plt.figure(figsize=(10, 6))\n",
    "    plt.barh(metrics, values, color=['#4CAF50', '#2196F3', '#FF5722', '#FFC107', '#9C27B0', '#00BCD4', '#E91E63'])\n",
    "    plt.xlabel('Scores', fontsize=12)\n",
    "    plt.ylabel('Metrics', fontsize=12)\n",
    "    plt.title(f'BM25 Evaluation Metrics with K = {k}', fontsize=14)\n",
    "    plt.xlim(0, 1)\n",
    "\n",
    "    for i, v in enumerate(values):\n",
    "        plt.text(v + 0.01 if v < 0.9 else v - 0.1, i, f\"{v:.2f}\", va='center', fontsize=10, color='black')\n",
    "\n",
    "    plt.tight_layout()\n",
    "    plt.savefig(f'BM25_valuation_metrics_k_{k}.png')\n",
    "    plt.show()\n",
    "\n",
    "k_values = [1, 3, 5, 10, 100, 1000]\n",
    "dropdown = Dropdown(options=k_values, value=1000, description='Select K')\n",
    "interact(plot_metrics, k=dropdown);"
   ],
   "id": "ac4114e0844a0349",
   "outputs": [
    {
     "data": {
      "text/plain": [
       "interactive(children=(Dropdown(description='Select K', index=5, options=(1, 3, 5, 10, 100, 1000), value=1000),…"
      ],
      "application/vnd.jupyter.widget-view+json": {
       "version_major": 2,
       "version_minor": 0,
       "model_id": "8f6c7f29be1740a8a8e82d1f18a39cb1"
      }
     },
     "metadata": {},
     "output_type": "display_data"
    }
   ],
   "execution_count": 8
  },
  {
   "metadata": {
    "ExecuteTime": {
     "end_time": "2024-12-20T15:19:10.726378Z",
     "start_time": "2024-12-20T15:19:04.427077Z"
    }
   },
   "cell_type": "code",
   "source": [
    "from beir.reranking.models import CrossEncoder\n",
    "from beir.reranking import Rerank\n",
    "cross_encoder_model = CrossEncoder('cross-encoder/ms-marco-TinyBERT-L-2-v2')\n",
    "reranker = Rerank(cross_encoder_model, batch_size=128)"
   ],
   "id": "b0c4d3059a2afd4c",
   "outputs": [
    {
     "data": {
      "text/plain": [
       "config.json:   0%|          | 0.00/787 [00:00<?, ?B/s]"
      ],
      "application/vnd.jupyter.widget-view+json": {
       "version_major": 2,
       "version_minor": 0,
       "model_id": "492d2b8e9e444b8d8966ca7a991e49be"
      }
     },
     "metadata": {},
     "output_type": "display_data"
    },
    {
     "data": {
      "text/plain": [
       "model.safetensors:   0%|          | 0.00/17.6M [00:00<?, ?B/s]"
      ],
      "application/vnd.jupyter.widget-view+json": {
       "version_major": 2,
       "version_minor": 0,
       "model_id": "1dfbfa6d02b04381a0853ffa209001b5"
      }
     },
     "metadata": {},
     "output_type": "display_data"
    },
    {
     "data": {
      "text/plain": [
       "tokenizer_config.json:   0%|          | 0.00/525 [00:00<?, ?B/s]"
      ],
      "application/vnd.jupyter.widget-view+json": {
       "version_major": 2,
       "version_minor": 0,
       "model_id": "e9623881997a4941b7b864417f209eab"
      }
     },
     "metadata": {},
     "output_type": "display_data"
    },
    {
     "data": {
      "text/plain": [
       "vocab.txt:   0%|          | 0.00/232k [00:00<?, ?B/s]"
      ],
      "application/vnd.jupyter.widget-view+json": {
       "version_major": 2,
       "version_minor": 0,
       "model_id": "b74a98b2d26441c488020aad1dc87100"
      }
     },
     "metadata": {},
     "output_type": "display_data"
    },
    {
     "data": {
      "text/plain": [
       "special_tokens_map.json:   0%|          | 0.00/112 [00:00<?, ?B/s]"
      ],
      "application/vnd.jupyter.widget-view+json": {
       "version_major": 2,
       "version_minor": 0,
       "model_id": "6ae4e825c33d4b9f833397d0f0cffc46"
      }
     },
     "metadata": {},
     "output_type": "display_data"
    },
    {
     "name": "stdout",
     "output_type": "stream",
     "text": [
      "2024-12-20 22:19:10 - Use pytorch device: cpu\n"
     ]
    }
   ],
   "execution_count": 68
  },
  {
   "metadata": {
    "ExecuteTime": {
     "end_time": "2024-12-20T15:20:02.563194Z",
     "start_time": "2024-12-20T15:19:21.040148Z"
    }
   },
   "cell_type": "code",
   "source": "rerank_results = reranker.rerank(corpus, queries, results_bert, top_k=20)",
   "id": "bf65cf10ec33ca94",
   "outputs": [
    {
     "name": "stdout",
     "output_type": "stream",
     "text": [
      "2024-12-20 22:19:21 - Starting To Rerank Top-20....\n"
     ]
    },
    {
     "data": {
      "text/plain": [
       "Batches:   0%|          | 0/51 [00:00<?, ?it/s]"
      ],
      "application/vnd.jupyter.widget-view+json": {
       "version_major": 2,
       "version_minor": 0,
       "model_id": "fd554074ac884722bf2e7caa703772ab"
      }
     },
     "metadata": {},
     "output_type": "display_data"
    }
   ],
   "execution_count": 69
  },
  {
   "metadata": {
    "ExecuteTime": {
     "end_time": "2024-12-20T15:20:13.290300Z",
     "start_time": "2024-12-20T15:20:13.281046Z"
    }
   },
   "cell_type": "code",
   "source": "logging.info(\"Retriever evaluation for k in: {}\".format( retriever.k_values))\n",
   "id": "2faa38f841191c97",
   "outputs": [
    {
     "name": "stdout",
     "output_type": "stream",
     "text": [
      "2024-12-20 22:20:13 - Retriever evaluation for k in: [1, 3, 5, 10, 100, 1000]\n"
     ]
    }
   ],
   "execution_count": 70
  },
  {
   "metadata": {
    "ExecuteTime": {
     "end_time": "2024-12-20T15:20:15.747031Z",
     "start_time": "2024-12-20T15:20:15.709039Z"
    }
   },
   "cell_type": "code",
   "source": [
    "ndcg, _map, recall, precision =  retriever.evaluate(qrels, rerank_results,  retriever.k_values)\n",
    "mrr =  retriever.evaluate_custom(qrels, rerank_results,  retriever.k_values, metric=\"mrr\")\n",
    "recall_cap =  retriever.evaluate_custom(qrels, rerank_results,  retriever.k_values, metric=\"r_cap\")\n",
    "hole =  retriever.evaluate_custom(qrels, rerank_results,  retriever.k_values, metric=\"hole\")\n",
    "logging.info(\"Retriever evaluation results:\")\n",
    "logging.info(f\"  nDCG: {ndcg}\")\n",
    "logging.info(f\"  Mean Average Precision: { _map}\")\n",
    "logging.info(f\"  Recall: {recall}\")\n",
    "logging.info(f\"  Precision: {precision}\")\n",
    "logging.info(f\"  MRR: {mrr}\")\n",
    "logging.info(f\"  Recall Cap: {recall_cap}\")\n",
    "logging.info(f\"  Hole: {hole}\")"
   ],
   "id": "432fe2e79cfe3c39",
   "outputs": [
    {
     "name": "stdout",
     "output_type": "stream",
     "text": [
      "2024-12-20 22:20:15 - For evaluation, we ignore identical query and document ids (default), please explicitly set ``ignore_identical_ids=False`` to ignore this.\n",
      "2024-12-20 22:20:15 - \n",
      "\n",
      "2024-12-20 22:20:15 - NDCG@1: 0.4226\n",
      "2024-12-20 22:20:15 - NDCG@3: 0.3720\n",
      "2024-12-20 22:20:15 - NDCG@5: 0.3518\n",
      "2024-12-20 22:20:15 - NDCG@10: 0.3187\n",
      "2024-12-20 22:20:15 - NDCG@100: 0.2337\n",
      "2024-12-20 22:20:15 - NDCG@1000: 0.2271\n",
      "2024-12-20 22:20:15 - \n",
      "\n",
      "2024-12-20 22:20:15 - MAP@1: 0.0542\n",
      "2024-12-20 22:20:15 - MAP@3: 0.0893\n",
      "2024-12-20 22:20:15 - MAP@5: 0.1023\n",
      "2024-12-20 22:20:15 - MAP@10: 0.1183\n",
      "2024-12-20 22:20:15 - MAP@100: 0.1314\n",
      "2024-12-20 22:20:15 - MAP@1000: 0.1314\n",
      "2024-12-20 22:20:15 - \n",
      "\n",
      "2024-12-20 22:20:15 - Recall@1: 0.0542\n",
      "2024-12-20 22:20:15 - Recall@3: 0.0981\n",
      "2024-12-20 22:20:15 - Recall@5: 0.1196\n",
      "2024-12-20 22:20:15 - Recall@10: 0.1493\n",
      "2024-12-20 22:20:15 - Recall@100: 0.1889\n",
      "2024-12-20 22:20:15 - Recall@1000: 0.1889\n",
      "2024-12-20 22:20:15 - \n",
      "\n",
      "2024-12-20 22:20:15 - P@1: 0.4427\n",
      "2024-12-20 22:20:15 - P@3: 0.3457\n",
      "2024-12-20 22:20:15 - P@5: 0.3015\n",
      "2024-12-20 22:20:15 - P@10: 0.2356\n",
      "2024-12-20 22:20:15 - P@100: 0.0356\n",
      "2024-12-20 22:20:15 - P@1000: 0.0036\n",
      "2024-12-20 22:20:15 - \n",
      "\n",
      "2024-12-20 22:20:15 - MRR@1: 0.4489\n",
      "2024-12-20 22:20:15 - MRR@3: 0.5031\n",
      "2024-12-20 22:20:15 - MRR@5: 0.5178\n",
      "2024-12-20 22:20:15 - MRR@10: 0.5242\n",
      "2024-12-20 22:20:15 - MRR@100: 0.5272\n",
      "2024-12-20 22:20:15 - MRR@1000: 0.5272\n",
      "2024-12-20 22:20:15 - \n",
      "\n",
      "2024-12-20 22:20:15 - R_cap@1: 0.4489\n",
      "2024-12-20 22:20:15 - R_cap@3: 0.3664\n",
      "2024-12-20 22:20:15 - R_cap@5: 0.3366\n",
      "2024-12-20 22:20:15 - R_cap@10: 0.2939\n",
      "2024-12-20 22:20:15 - R_cap@100: 0.1936\n",
      "2024-12-20 22:20:15 - R_cap@1000: 0.1889\n",
      "2024-12-20 22:20:15 - \n",
      "\n",
      "2024-12-20 22:20:15 - Hole@1: 0.0898\n",
      "2024-12-20 22:20:15 - Hole@3: 0.0764\n",
      "2024-12-20 22:20:15 - Hole@5: 0.0879\n",
      "2024-12-20 22:20:15 - Hole@10: 0.1059\n",
      "2024-12-20 22:20:15 - Hole@100: 0.0242\n",
      "2024-12-20 22:20:15 - Hole@1000: 0.0024\n",
      "2024-12-20 22:20:15 - Retriever evaluation results:\n",
      "2024-12-20 22:20:15 -   nDCG: {'NDCG@1': 0.4226, 'NDCG@3': 0.37195, 'NDCG@5': 0.35181, 'NDCG@10': 0.31872, 'NDCG@100': 0.23372, 'NDCG@1000': 0.22705}\n",
      "2024-12-20 22:20:15 -   Mean Average Precision: {'MAP@1': 0.05418, 'MAP@3': 0.0893, 'MAP@5': 0.10226, 'MAP@10': 0.11829, 'MAP@100': 0.13143, 'MAP@1000': 0.13143}\n",
      "2024-12-20 22:20:15 -   Recall: {'Recall@1': 0.05418, 'Recall@3': 0.09809, 'Recall@5': 0.11959, 'Recall@10': 0.14933, 'Recall@100': 0.18891, 'Recall@1000': 0.18891}\n",
      "2024-12-20 22:20:15 -   Precision: {'P@1': 0.44272, 'P@3': 0.34572, 'P@5': 0.30155, 'P@10': 0.2356, 'P@100': 0.03563, 'P@1000': 0.00356}\n",
      "2024-12-20 22:20:15 -   MRR: {'MRR@1': 0.44892, 'MRR@3': 0.5031, 'MRR@5': 0.5178, 'MRR@10': 0.52419, 'MRR@100': 0.52716, 'MRR@1000': 0.52716}\n",
      "2024-12-20 22:20:15 -   Recall Cap: {'R_cap@1': 0.44892, 'R_cap@3': 0.36636, 'R_cap@5': 0.33658, 'R_cap@10': 0.2939, 'R_cap@100': 0.19357, 'R_cap@1000': 0.18891}\n",
      "2024-12-20 22:20:15 -   Hole: {'Hole@1': 0.08978, 'Hole@3': 0.07637, 'Hole@5': 0.08793, 'Hole@10': 0.10588, 'Hole@100': 0.02424, 'Hole@1000': 0.00242}\n"
     ]
    }
   ],
   "execution_count": 71
  },
  {
   "metadata": {
    "ExecuteTime": {
     "end_time": "2024-12-20T15:20:18.410168Z",
     "start_time": "2024-12-20T15:20:18.202338Z"
    }
   },
   "cell_type": "code",
   "source": [
    "import matplotlib.pyplot as plt\n",
    "from ipywidgets import interact, Dropdown\n",
    "\n",
    "def plot_metrics(k):\n",
    "    metrics = ['nDCG', 'MAP', 'Recall', 'Precision', 'MRR', 'Recall Cap', 'Hole']\n",
    "    values = [ndcg[f'NDCG@{k}'], _map[f'MAP@{k}'], recall[f'Recall@{k}'], precision[f'P@{k}'], mrr[f'MRR@{k}'], recall_cap[f'R_cap@{k}'], hole[f'Hole@{k}']]\n",
    "\n",
    "    plt.figure(figsize=(10, 6))\n",
    "    plt.barh(metrics, values, color=['#4CAF50', '#2196F3', '#FF5722', '#FFC107', '#9C27B0', '#00BCD4', '#E91E63'])\n",
    "    plt.xlabel('Scores', fontsize=12)\n",
    "    plt.ylabel('Metrics', fontsize=12)\n",
    "    plt.title(f'Reranking BERT Evaluation Metrics with K = {k}', fontsize=14)\n",
    "    plt.xlim(0, 1)\n",
    "\n",
    "    for i, v in enumerate(values):\n",
    "        plt.text(v + 0.01 if v < 0.9 else v - 0.1, i, f\"{v:.2f}\", va='center', fontsize=10, color='black')\n",
    "    plt.savefig(f'Reranking_BERT_evaluation_metrics_k_{k}.png')\n",
    "    plt.tight_layout()\n",
    "    plt.show()\n",
    "\n",
    "k_values = [1, 3, 5, 10, 100, 1000]\n",
    "dropdown = Dropdown(options=k_values, value=10, description='Select K')\n",
    "interact(plot_metrics, k=dropdown);\n",
    "\n",
    "\n",
    "\n"
   ],
   "id": "84e11244c02bc544",
   "outputs": [
    {
     "data": {
      "text/plain": [
       "interactive(children=(Dropdown(description='Select K', index=3, options=(1, 3, 5, 10, 100, 1000), value=10), O…"
      ],
      "application/vnd.jupyter.widget-view+json": {
       "version_major": 2,
       "version_minor": 0,
       "model_id": "e547da2951b04323bcd1e840c6cf4bcb"
      }
     },
     "metadata": {},
     "output_type": "display_data"
    }
   ],
   "execution_count": 72
  },
  {
   "metadata": {
    "ExecuteTime": {
     "end_time": "2024-12-20T15:20:58.107135Z",
     "start_time": "2024-12-20T15:20:26.414498Z"
    }
   },
   "cell_type": "code",
   "source": "rerank_results = reranker.rerank(corpus, queries, results, top_k=20)",
   "id": "10f4ec0410ddc063",
   "outputs": [
    {
     "name": "stdout",
     "output_type": "stream",
     "text": [
      "2024-12-20 22:20:26 - Starting To Rerank Top-20....\n"
     ]
    },
    {
     "data": {
      "text/plain": [
       "Batches:   0%|          | 0/40 [00:00<?, ?it/s]"
      ],
      "application/vnd.jupyter.widget-view+json": {
       "version_major": 2,
       "version_minor": 0,
       "model_id": "3cc37e53e54a408e95668a28808ea819"
      }
     },
     "metadata": {},
     "output_type": "display_data"
    }
   ],
   "execution_count": 73
  },
  {
   "metadata": {
    "ExecuteTime": {
     "end_time": "2024-12-20T15:21:06.459979Z",
     "start_time": "2024-12-20T15:21:06.421582Z"
    }
   },
   "cell_type": "code",
   "source": [
    "ndcg, _map, recall, precision =  retriever.evaluate(qrels, rerank_results,  retriever.k_values)\n",
    "mrr =  retriever.evaluate_custom(qrels, rerank_results,  retriever.k_values, metric=\"mrr\")\n",
    "recall_cap =  retriever.evaluate_custom(qrels, rerank_results,  retriever.k_values, metric=\"r_cap\")\n",
    "hole =  retriever.evaluate_custom(qrels, rerank_results,  retriever.k_values, metric=\"hole\")\n",
    "logging.info(\"Retriever evaluation results:\")\n",
    "logging.info(f\"  nDCG: {ndcg}\")\n",
    "logging.info(f\"  Mean Average Precision: { _map}\")\n",
    "logging.info(f\"  Recall: {recall}\")\n",
    "logging.info(f\"  Precision: {precision}\")\n",
    "logging.info(f\"  MRR: {mrr}\")\n",
    "logging.info(f\"  Recall Cap: {recall_cap}\")\n",
    "logging.info(f\"  Hole: {hole}\")"
   ],
   "id": "4b4fd2cff393bb34",
   "outputs": [
    {
     "name": "stdout",
     "output_type": "stream",
     "text": [
      "2024-12-20 22:21:06 - For evaluation, we ignore identical query and document ids (default), please explicitly set ``ignore_identical_ids=False`` to ignore this.\n",
      "2024-12-20 22:21:06 - \n",
      "\n",
      "2024-12-20 22:21:06 - NDCG@1: 0.4854\n",
      "2024-12-20 22:21:06 - NDCG@3: 0.4190\n",
      "2024-12-20 22:21:06 - NDCG@5: 0.3903\n",
      "2024-12-20 22:21:06 - NDCG@10: 0.3511\n",
      "2024-12-20 22:21:06 - NDCG@100: 0.2492\n",
      "2024-12-20 22:21:06 - NDCG@1000: 0.2424\n",
      "2024-12-20 22:21:06 - \n",
      "\n",
      "2024-12-20 22:21:06 - MAP@1: 0.0645\n",
      "2024-12-20 22:21:06 - MAP@3: 0.1038\n",
      "2024-12-20 22:21:06 - MAP@5: 0.1182\n",
      "2024-12-20 22:21:06 - MAP@10: 0.1349\n",
      "2024-12-20 22:21:06 - MAP@100: 0.1448\n",
      "2024-12-20 22:21:06 - MAP@1000: 0.1448\n",
      "2024-12-20 22:21:06 - \n",
      "\n",
      "2024-12-20 22:21:06 - Recall@1: 0.0645\n",
      "2024-12-20 22:21:06 - Recall@3: 0.1134\n",
      "2024-12-20 22:21:06 - Recall@5: 0.1385\n",
      "2024-12-20 22:21:06 - Recall@10: 0.1681\n",
      "2024-12-20 22:21:06 - Recall@100: 0.1903\n",
      "2024-12-20 22:21:06 - Recall@1000: 0.1903\n",
      "2024-12-20 22:21:06 - \n",
      "\n",
      "2024-12-20 22:21:06 - P@1: 0.5065\n",
      "2024-12-20 22:21:06 - P@3: 0.3885\n",
      "2024-12-20 22:21:06 - P@5: 0.3286\n",
      "2024-12-20 22:21:06 - P@10: 0.2487\n",
      "2024-12-20 22:21:06 - P@100: 0.0348\n",
      "2024-12-20 22:21:06 - P@1000: 0.0035\n",
      "2024-12-20 22:21:06 - \n",
      "\n",
      "2024-12-20 22:21:06 - MRR@1: 0.4923\n",
      "2024-12-20 22:21:06 - MRR@3: 0.5501\n",
      "2024-12-20 22:21:06 - MRR@5: 0.5575\n",
      "2024-12-20 22:21:06 - MRR@10: 0.5635\n",
      "2024-12-20 22:21:06 - MRR@100: 0.5658\n",
      "2024-12-20 22:21:06 - MRR@1000: 0.5658\n",
      "2024-12-20 22:21:06 - \n",
      "\n",
      "2024-12-20 22:21:06 - R_cap@1: 0.4923\n",
      "2024-12-20 22:21:06 - R_cap@3: 0.3911\n",
      "2024-12-20 22:21:06 - R_cap@5: 0.3530\n",
      "2024-12-20 22:21:06 - R_cap@10: 0.3035\n",
      "2024-12-20 22:21:06 - R_cap@100: 0.1860\n",
      "2024-12-20 22:21:06 - R_cap@1000: 0.1815\n",
      "2024-12-20 22:21:06 - \n",
      "\n",
      "2024-12-20 22:21:06 - Hole@1: 0.0712\n",
      "2024-12-20 22:21:06 - Hole@3: 0.0733\n",
      "2024-12-20 22:21:06 - Hole@5: 0.0780\n",
      "2024-12-20 22:21:06 - Hole@10: 0.0830\n",
      "2024-12-20 22:21:06 - Hole@100: 0.0172\n",
      "2024-12-20 22:21:06 - Hole@1000: 0.0017\n",
      "2024-12-20 22:21:06 - Retriever evaluation results:\n",
      "2024-12-20 22:21:06 -   nDCG: {'NDCG@1': 0.48539, 'NDCG@3': 0.41904, 'NDCG@5': 0.39035, 'NDCG@10': 0.35106, 'NDCG@100': 0.24918, 'NDCG@1000': 0.24236}\n",
      "2024-12-20 22:21:06 -   Mean Average Precision: {'MAP@1': 0.06449, 'MAP@3': 0.10378, 'MAP@5': 0.11821, 'MAP@10': 0.13488, 'MAP@100': 0.1448, 'MAP@1000': 0.1448}\n",
      "2024-12-20 22:21:06 -   Recall: {'Recall@1': 0.06449, 'Recall@3': 0.11336, 'Recall@5': 0.13848, 'Recall@10': 0.16808, 'Recall@100': 0.19034, 'Recall@1000': 0.19034}\n",
      "2024-12-20 22:21:06 -   Precision: {'P@1': 0.50649, 'P@3': 0.38853, 'P@5': 0.32857, 'P@10': 0.2487, 'P@100': 0.03481, 'P@1000': 0.00348}\n",
      "2024-12-20 22:21:06 -   MRR: {'MRR@1': 0.49226, 'MRR@3': 0.55005, 'MRR@5': 0.55748, 'MRR@10': 0.5635, 'MRR@100': 0.56582, 'MRR@1000': 0.56582}\n",
      "2024-12-20 22:21:06 -   Recall Cap: {'R_cap@1': 0.49226, 'R_cap@3': 0.39112, 'R_cap@5': 0.35299, 'R_cap@10': 0.30353, 'R_cap@100': 0.18604, 'R_cap@1000': 0.1815}\n",
      "2024-12-20 22:21:06 -   Hole: {'Hole@1': 0.07121, 'Hole@3': 0.07327, 'Hole@5': 0.07802, 'Hole@10': 0.08297, 'Hole@100': 0.01718, 'Hole@1000': 0.00172}\n"
     ]
    }
   ],
   "execution_count": 74
  },
  {
   "metadata": {
    "ExecuteTime": {
     "end_time": "2024-12-20T15:21:10.066348Z",
     "start_time": "2024-12-20T15:21:09.865822Z"
    }
   },
   "cell_type": "code",
   "source": [
    "import matplotlib.pyplot as plt\n",
    "from ipywidgets import interact, Dropdown\n",
    "\n",
    "def plot_metrics(k):\n",
    "    metrics = ['nDCG', 'MAP', 'Recall', 'Precision', 'MRR', 'Recall Cap', 'Hole']\n",
    "    values = [ndcg[f'NDCG@{k}'], _map[f'MAP@{k}'], recall[f'Recall@{k}'], precision[f'P@{k}'], mrr[f'MRR@{k}'], recall_cap[f'R_cap@{k}'], hole[f'Hole@{k}']]\n",
    "\n",
    "    plt.figure(figsize=(10, 6))\n",
    "    plt.barh(metrics, values, color=['#4CAF50', '#2196F3', '#FF5722', '#FFC107', '#9C27B0', '#00BCD4', '#E91E63'])\n",
    "    plt.xlabel('Scores', fontsize=12)\n",
    "    plt.ylabel('Metrics', fontsize=12)\n",
    "    plt.title(f'Reranking BM25 Evaluation Metrics with K = {k}', fontsize=14)\n",
    "    plt.xlim(0, 1)\n",
    "\n",
    "    for i, v in enumerate(values):\n",
    "        plt.text(v + 0.01 if v < 0.9 else v - 0.1, i, f\"{v:.2f}\", va='center', fontsize=10, color='black')\n",
    "    plt.savefig(f'Reranking_BM25_evaluation_metrics_k_{k}.png')\n",
    "    plt.tight_layout()\n",
    "    plt.show()\n",
    "\n",
    "k_values = [1, 3, 5, 10, 100, 1000]\n",
    "dropdown = Dropdown(options=k_values, value=10, description='Select K')\n",
    "interact(plot_metrics, k=dropdown);\n"
   ],
   "id": "38d7097c5060f306",
   "outputs": [
    {
     "data": {
      "text/plain": [
       "interactive(children=(Dropdown(description='Select K', index=3, options=(1, 3, 5, 10, 100, 1000), value=10), O…"
      ],
      "application/vnd.jupyter.widget-view+json": {
       "version_major": 2,
       "version_minor": 0,
       "model_id": "4eab83131fc3464f873761cc659fb8d5"
      }
     },
     "metadata": {},
     "output_type": "display_data"
    }
   ],
   "execution_count": 75
  }
 ],
 "metadata": {
  "kernelspec": {
   "display_name": "Python 3",
   "language": "python",
   "name": "python3"
  },
  "language_info": {
   "codemirror_mode": {
    "name": "ipython",
    "version": 2
   },
   "file_extension": ".py",
   "mimetype": "text/x-python",
   "name": "python",
   "nbconvert_exporter": "python",
   "pygments_lexer": "ipython2",
   "version": "2.7.6"
  }
 },
 "nbformat": 4,
 "nbformat_minor": 5
}
